{
  "nbformat": 4,
  "nbformat_minor": 0,
  "metadata": {
    "colab": {
      "provenance": []
    },
    "kernelspec": {
      "name": "python3",
      "display_name": "Python 3"
    },
    "language_info": {
      "name": "python"
    }
  },
  "cells": [
    {
      "cell_type": "code",
      "execution_count": 7,
      "metadata": {
        "colab": {
          "base_uri": "https://localhost:8080/"
        },
        "id": "LHebFYUurvEm",
        "outputId": "09f40f92-b18a-4056-f4ee-e911f5191124"
      },
      "outputs": [
        {
          "output_type": "stream",
          "name": "stdout",
          "text": [
            "Arati & Apeksha\n"
          ]
        }
      ],
      "source": [
        "print(\"Arati & Apeksha\")"
      ]
    },
    {
      "cell_type": "code",
      "source": [
        "print(\"Basva prabhu kore degree collage\")"
      ],
      "metadata": {
        "colab": {
          "base_uri": "https://localhost:8080/"
        },
        "id": "-6YL6BfqsZXa",
        "outputId": "7e87758a-336c-481d-9c83-fa1779de8a6f"
      },
      "execution_count": 8,
      "outputs": [
        {
          "output_type": "stream",
          "name": "stdout",
          "text": [
            "Basva prabhu kore degree collage\n"
          ]
        }
      ]
    },
    {
      "cell_type": "code",
      "source": [
        "print(5+5)"
      ],
      "metadata": {
        "colab": {
          "base_uri": "https://localhost:8080/"
        },
        "id": "jquPIA-psteB",
        "outputId": "05a35322-e1a5-46dc-94ec-f5275a7400ef"
      },
      "execution_count": 9,
      "outputs": [
        {
          "output_type": "stream",
          "name": "stdout",
          "text": [
            "10\n"
          ]
        }
      ]
    },
    {
      "cell_type": "code",
      "source": [],
      "metadata": {
        "id": "cjPxSn0ftmV-"
      },
      "execution_count": null,
      "outputs": []
    }
  ]
}