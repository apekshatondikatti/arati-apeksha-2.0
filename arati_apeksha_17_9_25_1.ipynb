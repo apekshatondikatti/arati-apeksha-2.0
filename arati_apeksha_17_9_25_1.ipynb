{
  "nbformat": 4,
  "nbformat_minor": 0,
  "metadata": {
    "colab": {
      "provenance": []
    },
    "kernelspec": {
      "name": "python3",
      "display_name": "Python 3"
    },
    "language_info": {
      "name": "python"
    }
  },
  "cells": [
    {
      "cell_type": "code",
      "execution_count": 19,
      "metadata": {
        "colab": {
          "base_uri": "https://localhost:8080/"
        },
        "id": "BcvIF8CCWhaV",
        "outputId": "8c59946a-319a-4792-ab94-3be650ff5133"
      },
      "outputs": [
        {
          "output_type": "stream",
          "name": "stdout",
          "text": [
            "b is greater number\n"
          ]
        }
      ],
      "source": [
        "a, b, c = 25,35,15\n",
        "if (b > a,  ) :\n",
        "  if (b >c) :\n",
        "    print (\"b is greater number\")\n",
        "else:\n",
        "  print (\"b is not greater number\")\n"
      ]
    },
    {
      "cell_type": "code",
      "source": [
        "colurs = ['blue', 'red', 'pink', 'black' ]\n",
        "print (type(colurs))\n",
        "for i in colurs:\n",
        "  print (i)"
      ],
      "metadata": {
        "id": "9x9jyrrsZ86N",
        "colab": {
          "base_uri": "https://localhost:8080/"
        },
        "outputId": "7d385736-7584-4cd2-8081-9656f04a7954"
      },
      "execution_count": 20,
      "outputs": [
        {
          "output_type": "stream",
          "name": "stdout",
          "text": [
            "<class 'list'>\n",
            "blue\n",
            "red\n",
            "pink\n",
            "black\n"
          ]
        }
      ]
    },
    {
      "cell_type": "code",
      "source": [
        "friends = ('Arati', 'apeksha', 'shristi', 'vidya', 'rohini', 'Amrita' )\n",
        "print (type(friends))\n",
        "for i in friends:\n",
        "  print (i)\n"
      ],
      "metadata": {
        "colab": {
          "base_uri": "https://localhost:8080/"
        },
        "id": "s_rD_2F9c9JK",
        "outputId": "f01f8aa9-3105-472f-b5ab-a0db7d75eedb"
      },
      "execution_count": 21,
      "outputs": [
        {
          "output_type": "stream",
          "name": "stdout",
          "text": [
            "<class 'tuple'>\n",
            "Arati\n",
            "apeksha\n",
            "shristi\n",
            "vidya\n",
            "rohini\n",
            "Amrita\n"
          ]
        }
      ]
    },
    {
      "cell_type": "code",
      "source": [
        "numbers = {1,2,3,4,5,6,7,8,9,10}\n",
        "for i in numbers :\n",
        "  print (i)"
      ],
      "metadata": {
        "colab": {
          "base_uri": "https://localhost:8080/"
        },
        "id": "AwrI7PiKeU7i",
        "outputId": "4cc15fae-d156-4550-8f7b-bb78cb750c32"
      },
      "execution_count": 22,
      "outputs": [
        {
          "output_type": "stream",
          "name": "stdout",
          "text": [
            "1\n",
            "2\n",
            "3\n",
            "4\n",
            "5\n",
            "6\n",
            "7\n",
            "8\n",
            "9\n",
            "10\n"
          ]
        }
      ]
    },
    {
      "cell_type": "code",
      "source": [
        "name = \"KLE BK BCA College in Chikodi\"\n",
        "rev = \"\"\n",
        "for i in  name :\n",
        "  rev = i + rev\n",
        "print (rev)\n"
      ],
      "metadata": {
        "colab": {
          "base_uri": "https://localhost:8080/"
        },
        "id": "OZ7nmuIHepXC",
        "outputId": "59e793e8-9892-455f-95bd-eb14f4e38a84"
      },
      "execution_count": 23,
      "outputs": [
        {
          "output_type": "stream",
          "name": "stdout",
          "text": [
            "idokihC ni egelloC ACB KB ELK\n"
          ]
        }
      ]
    },
    {
      "cell_type": "code",
      "source": [
        "for i in range(10):\n",
        "  print(i)\n",
        ""
      ],
      "metadata": {
        "colab": {
          "base_uri": "https://localhost:8080/"
        },
        "id": "YYDpJtvOk7NJ",
        "outputId": "d021cd89-cad5-423c-d8e3-bc6422cb5167"
      },
      "execution_count": 27,
      "outputs": [
        {
          "output_type": "stream",
          "name": "stdout",
          "text": [
            "0\n",
            "1\n",
            "2\n",
            "3\n",
            "4\n",
            "5\n",
            "6\n",
            "7\n",
            "8\n",
            "9\n"
          ]
        }
      ]
    },
    {
      "cell_type": "code",
      "source": [
        "for i  in range ( 1,10+1):\n",
        "  print(i)"
      ],
      "metadata": {
        "colab": {
          "base_uri": "https://localhost:8080/"
        },
        "id": "0jG2eR7Zokfg",
        "outputId": "942872a3-7690-4b98-f112-d008de5ea52f"
      },
      "execution_count": 29,
      "outputs": [
        {
          "output_type": "stream",
          "name": "stdout",
          "text": [
            "1\n",
            "2\n",
            "3\n",
            "4\n",
            "5\n",
            "6\n",
            "7\n",
            "8\n",
            "9\n",
            "10\n"
          ]
        }
      ]
    },
    {
      "cell_type": "code",
      "source": [
        "sum = 0\n",
        "for i in range (1,11):\n",
        " sum +=i\n",
        "print (\"sum of n natural number is\", sum)"
      ],
      "metadata": {
        "colab": {
          "base_uri": "https://localhost:8080/"
        },
        "id": "2a_WmwQ2qsb6",
        "outputId": "dbf153b9-bae9-4dc9-b26f-0aa3d0bd6f30"
      },
      "execution_count": 42,
      "outputs": [
        {
          "output_type": "stream",
          "name": "stdout",
          "text": [
            "sum of n natural number is 55\n"
          ]
        }
      ]
    },
    {
      "cell_type": "code",
      "source": [
        "sum = 4\n",
        "for i in range (1, 11):\n",
        "\n",
        "  print (\"multiple of 4\" , sum *i)"
      ],
      "metadata": {
        "colab": {
          "base_uri": "https://localhost:8080/"
        },
        "id": "QnfrXuxYsB0x",
        "outputId": "98e4480d-b43b-467d-990f-ec6007b42bc8"
      },
      "execution_count": 50,
      "outputs": [
        {
          "output_type": "stream",
          "name": "stdout",
          "text": [
            "multiple of 4 4\n",
            "multiple of 4 8\n",
            "multiple of 4 12\n",
            "multiple of 4 16\n",
            "multiple of 4 20\n",
            "multiple of 4 24\n",
            "multiple of 4 28\n",
            "multiple of 4 32\n",
            "multiple of 4 36\n",
            "multiple of 4 40\n"
          ]
        }
      ]
    },
    {
      "cell_type": "code",
      "source": [
        "num = 1\n",
        "for i in range (2, 101,2):\n",
        "  print(i, end=\" \" )"
      ],
      "metadata": {
        "colab": {
          "base_uri": "https://localhost:8080/"
        },
        "id": "YVpfQAxSttmJ",
        "outputId": "82ec2fc2-dac5-4c78-90f1-08a71e9a9c02"
      },
      "execution_count": 57,
      "outputs": [
        {
          "output_type": "stream",
          "name": "stdout",
          "text": [
            "2 4 6 8 10 12 14 16 18 20 22 24 26 28 30 32 34 36 38 40 42 44 46 48 50 52 54 56 58 60 62 64 66 68 70 72 74 76 78 80 82 84 86 88 90 92 94 96 98 100 "
          ]
        }
      ]
    },
    {
      "cell_type": "code",
      "source": [
        "fact = 1\n",
        "for i in range (1,6):\n",
        "  fact = fact * i\n",
        "print (\"factorial number is:\", fact)"
      ],
      "metadata": {
        "colab": {
          "base_uri": "https://localhost:8080/"
        },
        "id": "XvY5uWuFwi05",
        "outputId": "377ee8ac-6e11-4c8d-9978-760078b98395"
      },
      "execution_count": 62,
      "outputs": [
        {
          "output_type": "stream",
          "name": "stdout",
          "text": [
            "factorial number is: 120\n"
          ]
        }
      ]
    },
    {
      "cell_type": "code",
      "source": [
        " # fiboncacci series / number for loop\n",
        " # 0 1 1 2 3 5 8 13 21 34 55 89 144\n",
        " a , b = 0, 1\n",
        "for i in range( 1,14):\n",
        "  print(a , end= \" \")\n",
        "  a, b = b, a+b"
      ],
      "metadata": {
        "colab": {
          "base_uri": "https://localhost:8080/"
        },
        "id": "ruks07XbxIqx",
        "outputId": "41c0386d-a292-4ba1-82db-f49cc69e490b"
      },
      "execution_count": 73,
      "outputs": [
        {
          "output_type": "stream",
          "name": "stdout",
          "text": [
            "0 1 1 2 3 5 8 13 21 34 55 89 144 "
          ]
        }
      ]
    },
    {
      "cell_type": "code",
      "source": [],
      "metadata": {
        "id": "ROlhXrpm0PhB"
      },
      "execution_count": null,
      "outputs": []
    }
  ]
}