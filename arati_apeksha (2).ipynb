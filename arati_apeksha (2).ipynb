{
  "nbformat": 4,
  "nbformat_minor": 0,
  "metadata": {
    "colab": {
      "provenance": []
    },
    "kernelspec": {
      "name": "python3",
      "display_name": "Python 3"
    },
    "language_info": {
      "name": "python"
    }
  },
  "cells": [
    {
      "cell_type": "code",
      "source": [
        "print(\"Basva prabhu kore degree collage\")"
      ],
      "metadata": {
        "colab": {
          "base_uri": "https://localhost:8080/"
        },
        "id": "-6YL6BfqsZXa",
        "outputId": "dc70ba21-70ea-4140-df52-6ca488aafb9d"
      },
      "execution_count": 730,
      "outputs": [
        {
          "output_type": "stream",
          "name": "stdout",
          "text": [
            "Basva prabhu kore degree collage\n"
          ]
        }
      ]
    },
    {
      "cell_type": "code",
      "source": [
        "print(5+5)"
      ],
      "metadata": {
        "colab": {
          "base_uri": "https://localhost:8080/"
        },
        "id": "jquPIA-psteB",
        "outputId": "ee2ad3a2-0768-4b71-9727-ca6f45468e94"
      },
      "execution_count": 731,
      "outputs": [
        {
          "output_type": "stream",
          "name": "stdout",
          "text": [
            "10\n"
          ]
        }
      ]
    },
    {
      "cell_type": "code",
      "source": [],
      "metadata": {
        "id": "cjPxSn0ftmV-"
      },
      "execution_count": 731,
      "outputs": []
    },
    {
      "cell_type": "code",
      "execution_count": 732,
      "metadata": {
        "colab": {
          "base_uri": "https://localhost:8080/"
        },
        "id": "LHebFYUurvEm",
        "outputId": "27656071-ed5a-4e39-d302-b7fd8c2e622d"
      },
      "outputs": [
        {
          "output_type": "stream",
          "name": "stdout",
          "text": [
            "Arati & Apeksha\n"
          ]
        }
      ],
      "source": [
        "print(\"Arati & Apeksha\")"
      ]
    },
    {
      "cell_type": "code",
      "source": [
        "a = 10\n",
        "print(10)"
      ],
      "metadata": {
        "colab": {
          "base_uri": "https://localhost:8080/"
        },
        "id": "12N3OdkUHeSO",
        "outputId": "284fb9c7-0026-4abc-ad77-13f78a241ad8"
      },
      "execution_count": 733,
      "outputs": [
        {
          "output_type": "stream",
          "name": "stdout",
          "text": [
            "10\n"
          ]
        }
      ]
    },
    {
      "cell_type": "code",
      "source": [
        "print(\"hello World*3\")"
      ],
      "metadata": {
        "colab": {
          "base_uri": "https://localhost:8080/"
        },
        "id": "JLhLAyurHtN9",
        "outputId": "869695b3-b326-4e47-ca28-a6a05edd0a20"
      },
      "execution_count": 734,
      "outputs": [
        {
          "output_type": "stream",
          "name": "stdout",
          "text": [
            "hello World*3\n"
          ]
        }
      ]
    },
    {
      "cell_type": "code",
      "source": [
        "print(100/3)"
      ],
      "metadata": {
        "colab": {
          "base_uri": "https://localhost:8080/"
        },
        "id": "r36qq7uPJlzW",
        "outputId": "cd15ef44-2fd3-42fb-b18b-6228c3d11016"
      },
      "execution_count": 735,
      "outputs": [
        {
          "output_type": "stream",
          "name": "stdout",
          "text": [
            "33.333333333333336\n"
          ]
        }
      ]
    },
    {
      "cell_type": "code",
      "source": [
        "print(\"python programing language\\n* 5\")"
      ],
      "metadata": {
        "colab": {
          "base_uri": "https://localhost:8080/"
        },
        "id": "Wy-SZWBKJ2z-",
        "outputId": "a7da9b1c-2678-4538-d9b3-ad61dc427d19"
      },
      "execution_count": 736,
      "outputs": [
        {
          "output_type": "stream",
          "name": "stdout",
          "text": [
            "python programing language\n",
            "* 5\n"
          ]
        }
      ]
    },
    {
      "cell_type": "code",
      "source": [
        "print(\"i am apeksha I have completed master application in tumkur university,\\n in \")"
      ],
      "metadata": {
        "colab": {
          "base_uri": "https://localhost:8080/"
        },
        "id": "lP4Ct6rJKcPp",
        "outputId": "e4c2c35c-f84a-4cfd-b2cb-ae6bac2cba22"
      },
      "execution_count": 737,
      "outputs": [
        {
          "output_type": "stream",
          "name": "stdout",
          "text": [
            "i am apeksha I have completed master application in tumkur university,\n",
            " in \n"
          ]
        }
      ]
    },
    {
      "cell_type": "code",
      "source": [
        "print(\"hello\" + \"world\")"
      ],
      "metadata": {
        "colab": {
          "base_uri": "https://localhost:8080/"
        },
        "id": "MAMZdju9LjoH",
        "outputId": "cae065c2-7033-461d-cef0-e046324a9f94"
      },
      "execution_count": 738,
      "outputs": [
        {
          "output_type": "stream",
          "name": "stdout",
          "text": [
            "helloworld\n"
          ]
        }
      ]
    },
    {
      "cell_type": "code",
      "source": [
        "print (\"GOOD MORNING\")"
      ],
      "metadata": {
        "colab": {
          "base_uri": "https://localhost:8080/"
        },
        "id": "YepEw6KLL3_t",
        "outputId": "ecb3d803-faf6-4d2d-b77a-3e6b67d2e061"
      },
      "execution_count": 739,
      "outputs": [
        {
          "output_type": "stream",
          "name": "stdout",
          "text": [
            "GOOD MORNING\n"
          ]
        }
      ]
    },
    {
      "cell_type": "code",
      "source": [
        "name =\"arati\"\n",
        "print(name)\n"
      ],
      "metadata": {
        "colab": {
          "base_uri": "https://localhost:8080/"
        },
        "id": "iWdu32JHMvUQ",
        "outputId": "01853d71-8605-4caf-cb36-d8eab0558914"
      },
      "execution_count": 740,
      "outputs": [
        {
          "output_type": "stream",
          "name": "stdout",
          "text": [
            "arati\n"
          ]
        }
      ]
    },
    {
      "cell_type": "code",
      "source": [
        "print (\"good morning\\n\"*10)"
      ],
      "metadata": {
        "colab": {
          "base_uri": "https://localhost:8080/"
        },
        "id": "PVYiCw5TN3Ab",
        "outputId": "e21ae690-c4ca-4c19-8b6b-5dc754682578"
      },
      "execution_count": 741,
      "outputs": [
        {
          "output_type": "stream",
          "name": "stdout",
          "text": [
            "good morning\n",
            "good morning\n",
            "good morning\n",
            "good morning\n",
            "good morning\n",
            "good morning\n",
            "good morning\n",
            "good morning\n",
            "good morning\n",
            "good morning\n",
            "\n"
          ]
        }
      ]
    },
    {
      "cell_type": "code",
      "source": [],
      "metadata": {
        "id": "6ry4Z6XFP6Rd"
      },
      "execution_count": 741,
      "outputs": []
    },
    {
      "cell_type": "code",
      "source": [
        "result =\"kannada = 30\\n eng = 25\\n DBMS = 23\\n CP= 30\\n account = 25\\n ic = 18\"\n",
        "print (result)"
      ],
      "metadata": {
        "colab": {
          "base_uri": "https://localhost:8080/"
        },
        "id": "wVQ9Y3FNOU-u",
        "outputId": "dbe702c1-ab87-4811-bac5-016649dc0afb"
      },
      "execution_count": 742,
      "outputs": [
        {
          "output_type": "stream",
          "name": "stdout",
          "text": [
            "kannada = 30\n",
            " eng = 25\n",
            " DBMS = 23\n",
            " CP= 30\n",
            " account = 25\n",
            " ic = 18\n"
          ]
        }
      ]
    },
    {
      "cell_type": "code",
      "source": [
        "_N_A_M_E = \"COMPUTER\"\n",
        "print( _N_A_M_E)"
      ],
      "metadata": {
        "colab": {
          "base_uri": "https://localhost:8080/"
        },
        "id": "7t_M7lhQVo4m",
        "outputId": "9ee0c7f5-7fee-4c6d-b708-9b9d5a184918"
      },
      "execution_count": 743,
      "outputs": [
        {
          "output_type": "stream",
          "name": "stdout",
          "text": [
            "COMPUTER\n"
          ]
        }
      ]
    },
    {
      "cell_type": "code",
      "source": [
        "y =3.24\n",
        "print(y)"
      ],
      "metadata": {
        "colab": {
          "base_uri": "https://localhost:8080/"
        },
        "id": "aWWE1OHVQB7j",
        "outputId": "ac095cf8-2cfe-4e0c-a7e7-c65f4c354d63"
      },
      "execution_count": 744,
      "outputs": [
        {
          "output_type": "stream",
          "name": "stdout",
          "text": [
            "3.24\n"
          ]
        }
      ]
    },
    {
      "cell_type": "code",
      "source": [
        "yes=True\n",
        "print(yes)"
      ],
      "metadata": {
        "colab": {
          "base_uri": "https://localhost:8080/"
        },
        "id": "uq6BiLArW2YN",
        "outputId": "f1147823-f2e7-46cb-d3d1-a227d0e72a72"
      },
      "execution_count": 745,
      "outputs": [
        {
          "output_type": "stream",
          "name": "stdout",
          "text": [
            "True\n"
          ]
        }
      ]
    },
    {
      "cell_type": "code",
      "source": [
        "NA_12_ME =\"CHIKODI\"\n",
        "print(NA_12_ME)"
      ],
      "metadata": {
        "colab": {
          "base_uri": "https://localhost:8080/"
        },
        "id": "dn4SLEejXbsv",
        "outputId": "dee45bd2-7037-41bf-e2c0-390f7e7b48b1"
      },
      "execution_count": 746,
      "outputs": [
        {
          "output_type": "stream",
          "name": "stdout",
          "text": [
            "CHIKODI\n"
          ]
        }
      ]
    },
    {
      "cell_type": "code",
      "source": [
        "name = \" collage \"\n",
        "per = 67.34\n",
        "print( name, per)"
      ],
      "metadata": {
        "colab": {
          "base_uri": "https://localhost:8080/"
        },
        "id": "ybFkBlTEYK9z",
        "outputId": "1e35a241-c0b7-49e1-9b00-346f3ec7ba72"
      },
      "execution_count": 747,
      "outputs": [
        {
          "output_type": "stream",
          "name": "stdout",
          "text": [
            " collage  67.34\n"
          ]
        }
      ]
    },
    {
      "cell_type": "code",
      "source": [
        "TEXT = \"MY NAME IS ARATI DONE STUDING IN BKC COLLAGE\"\n",
        "print(TEXT)"
      ],
      "metadata": {
        "colab": {
          "base_uri": "https://localhost:8080/"
        },
        "id": "ux0ODTvxYmPz",
        "outputId": "43d262ea-072f-422a-f3fe-520757def878"
      },
      "execution_count": 748,
      "outputs": [
        {
          "output_type": "stream",
          "name": "stdout",
          "text": [
            "MY NAME IS ARATI DONE STUDING IN BKC COLLAGE\n"
          ]
        }
      ]
    },
    {
      "cell_type": "code",
      "source": [
        "Name = \"Sanketh\"\n",
        "per = 85.35\n",
        "Year = 2025\n",
        "print(\"ihave comptext'leted puc in \" ,name, \"pu collage in the\" ,Year, \"of i got \",per,\"is\")"
      ],
      "metadata": {
        "colab": {
          "base_uri": "https://localhost:8080/"
        },
        "id": "I043ns73edkZ",
        "outputId": "2f01887b-3501-498c-a151-209ce02e7026"
      },
      "execution_count": 749,
      "outputs": [
        {
          "output_type": "stream",
          "name": "stdout",
          "text": [
            "ihave comptext'leted puc in   collage  pu collage in the 2025 of i got  85.35 is\n"
          ]
        }
      ]
    },
    {
      "cell_type": "code",
      "source": [
        "text =\" GOOD EVENING\"\n",
        "adress=\"chikodi\"\n",
        "print(\"hello\", text, \"how are you, i am fine, where are you from, i am from ,\",adress, )"
      ],
      "metadata": {
        "colab": {
          "base_uri": "https://localhost:8080/"
        },
        "id": "vH56VEO6fstC",
        "outputId": "e3f1559e-dc5e-4cb0-8c7e-6f550402e407"
      },
      "execution_count": 750,
      "outputs": [
        {
          "output_type": "stream",
          "name": "stdout",
          "text": [
            "hello  GOOD EVENING how are you, i am fine, where are you from, i am from , chikodi\n"
          ]
        }
      ]
    }
  ]
}